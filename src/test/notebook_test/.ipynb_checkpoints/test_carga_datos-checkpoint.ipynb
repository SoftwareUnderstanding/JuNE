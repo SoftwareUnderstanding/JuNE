{
 "cells": [
  {
   "cell_type": "code",
   "execution_count": 1,
   "id": "dae545c6",
   "metadata": {},
   "outputs": [],
   "source": [
    "x=0\n",
    "x=x+1\n",
    "y=2"
   ]
  },
  {
   "cell_type": "code",
   "execution_count": 2,
   "id": "70a75e2e",
   "metadata": {},
   "outputs": [],
   "source": [
    "import numpy"
   ]
  },
  {
   "cell_type": "markdown",
   "id": "7315a4e1",
   "metadata": {},
   "source": [
    "Ejemplo de celda de texto"
   ]
  },
  {
   "cell_type": "code",
   "execution_count": null,
   "id": "f874254c",
   "metadata": {},
   "outputs": [],
   "source": [
    "import csv\n",
    " \n",
    "with open('example.csv', newline='') as File:  \n",
    "    reader = csv.reader(File)\n",
    "    for row in reader:\n",
    "        print(row)"
   ]
  }
 ],
 "metadata": {
  "authors": [
   {
    "name": "Daniel"
   },
   {
    "name": "Juan"
   }
  ],
  "kernelspec": {
   "display_name": "Python 3 (ipykernel)",
   "language": "python",
   "name": "python3"
  },
  "language_info": {
   "codemirror_mode": {
    "name": "ipython",
    "version": 3
   },
   "file_extension": ".py",
   "mimetype": "text/x-python",
   "name": "python",
   "nbconvert_exporter": "python",
   "pygments_lexer": "ipython3",
   "version": "3.8.10"
  },
  "title": "test notebook"
 },
 "nbformat": 4,
 "nbformat_minor": 5
}
