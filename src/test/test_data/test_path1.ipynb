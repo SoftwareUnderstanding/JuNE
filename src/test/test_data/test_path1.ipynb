{
 "cells": [
  {
   "cell_type": "code",
   "execution_count": null,
   "id": "a18db16e",
   "metadata": {},
   "outputs": [],
   "source": [
    "path = \"R315114383A.mdd\"\n",
    "f = open(path)\n",
    "filedata = f.read()\n"
   ]
  },
  {
   "cell_type": "code",
   "execution_count": null,
   "id": "670596b1",
   "metadata": {},
   "outputs": [],
   "source": [
    "path = \"prueba1.csv\"\n",
    "f = open(path,'r')\n",
    "filedata = f.read()"
   ]
  },
  {
   "cell_type": "code",
   "execution_count": null,
   "id": "1b739bfd",
   "metadata": {},
   "outputs": [],
   "source": [
    "path = \"R315114383A.mdd\"\n",
    "f = open('prueba2.csv')\n",
    "filedata = f.read()"
   ]
  },
  {
   "cell_type": "code",
   "execution_count": null,
   "id": "33fcc1d6",
   "metadata": {},
   "outputs": [],
   "source": [
    "path = \"R315114383A.mdd\"\n",
    "f = open('prueba3.txt','r')\n",
    "filedata = f.read()"
   ]
  },
  {
   "cell_type": "code",
   "execution_count": null,
   "id": "a9fdfa54",
   "metadata": {},
   "outputs": [],
   "source": [
    "path3 = \"prueba4.csv\"\n"
   ]
  },
  {
   "cell_type": "code",
   "execution_count": null,
   "id": "41d05513",
   "metadata": {},
   "outputs": [],
   "source": [
    "f = open(path3,'r')\n",
    "filedata = f.read()"
   ]
  }
 ],
 "metadata": {
  "kernelspec": {
   "display_name": "Python 3 (ipykernel)",
   "language": "python",
   "name": "python3"
  },
  "language_info": {
   "codemirror_mode": {
    "name": "ipython",
    "version": 3
   },
   "file_extension": ".py",
   "mimetype": "text/x-python",
   "name": "python",
   "nbconvert_exporter": "python",
   "pygments_lexer": "ipython3",
   "version": "3.8.10"
  }
 },
 "nbformat": 4,
 "nbformat_minor": 5
}
