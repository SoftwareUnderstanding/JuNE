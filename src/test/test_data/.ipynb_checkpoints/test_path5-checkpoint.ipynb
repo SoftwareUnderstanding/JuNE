{
 "cells": [
  {
   "cell_type": "code",
   "execution_count": 1,
   "metadata": {
    "collapsed": true
   },
   "outputs": [],
   "source": [
    "import requests\n"
   ]
  },
  {
   "cell_type": "code",
   "execution_count": 23,
   "metadata": {
    "collapsed": true
   },
   "outputs": [],
   "source": [
    "token = \"53cb2e327d894fd0b927dab7a33ed5f2\""
   ]
  },
  {
   "cell_type": "code",
   "execution_count": 5,
   "metadata": {},
   "outputs": [
    {
     "name": "stderr",
     "output_type": "stream",
     "text": [
      "/home/pingu/.conda/envs/twitcher/lib/python2.7/site-packages/requests/packages/urllib3/connectionpool.py:843: InsecureRequestWarning: Unverified HTTPS request is being made. Adding certificate verification is strongly advised. See: https://urllib3.readthedocs.io/en/latest/advanced-usage.html#ssl-warnings\n",
      "  InsecureRequestWarning)\n"
     ]
    }
   ],
   "source": [
    "req_url = \"https://localhost:5000/ows/wps?version=1.0.0&service=wps&request=describeprocess&identifier=hello\"\n",
    "response = requests.get(req_url, verify=False)"
   ]
  },
  {
   "cell_type": "code",
   "execution_count": 7,
   "metadata": {
    "scrolled": true
   },
   "outputs": [
    {
     "name": "stdout",
     "output_type": "stream",
     "text": [
      "<!-- PyWPS 4.0.0 -->\n",
      "<wps:ProcessDescriptions xmlns:gml=\"http://www.opengis.net/gml\" xmlns:ows=\"http://www.opengis.net/ows/1.1\" xmlns:wps=\"http://www.opengis.net/wps/1.0.0\" xmlns:xlink=\"http://www.w3.org/1999/xlink\" xmlns:xsi=\"http://www.w3.org/2001/XMLSchema-instance\" xsi:schemaLocation=\"http://www.opengis.net/wps/1.0.0 http://schemas.opengis.net/wps/1.0.0/wpsDescribeProcess_response.xsd\" service=\"WPS\" version=\"1.0.0\" xml:lang=\"en-US\">\n",
      "  <ProcessDescription wps:processVersion=\"1.4\" storeSupported=\"true\" statusSupported=\"true\">\n",
      "    <ows:Identifier>hello</ows:Identifier>\n",
      "    <ows:Title>Say Hello</ows:Title>\n",
      "    <DataInputs>\n",
      "      <Input minOccurs=\"1\" maxOccurs=\"1\">\n",
      "        <ows:Identifier>name</ows:Identifier>\n",
      "        <ows:Title>Your name</ows:Title>\n",
      "        <LiteralData>\n",
      "          <ows:DataType ows:reference=\"urn:ogc:def:dataType:OGC:1.1:string\">string</ows:DataType>\n",
      "          <ows:AnyValue/>\n",
      "        </LiteralData>\n",
      "      </Input>\n",
      "    </DataInputs>\n",
      "    <ProcessOutputs>\n",
      "      <Output>\n",
      "        <ows:Identifier>output</ows:Identifier>\n",
      "        <ows:Title>Output response</ows:Title>\n",
      "        <LiteralOutput>\n",
      "          <ows:DataType ows:reference=\"urn:ogc:def:dataType:OGC:1.1:string\">string</ows:DataType>\n",
      "        </LiteralOutput>\n",
      "      </Output>\n",
      "    </ProcessOutputs>\n",
      "  </ProcessDescription>\n",
      "</wps:ProcessDescriptions>\n",
      "\n"
     ]
    }
   ],
   "source": [
    "print response.text"
   ]
  },
  {
   "cell_type": "code",
   "execution_count": 24,
   "metadata": {
    "collapsed": true
   },
   "outputs": [],
   "source": [
    "req_url = \"https://localhost:5000/ows/wps?version=1.0.0&service=wps&request=execute&identifier=hello\""
   ]
  },
  {
   "cell_type": "code",
   "execution_count": 25,
   "metadata": {},
   "outputs": [
    {
     "name": "stderr",
     "output_type": "stream",
     "text": [
      "/home/pingu/.conda/envs/twitcher/lib/python2.7/site-packages/requests/packages/urllib3/connectionpool.py:843: InsecureRequestWarning: Unverified HTTPS request is being made. Adding certificate verification is strongly advised. See: https://urllib3.readthedocs.io/en/latest/advanced-usage.html#ssl-warnings\n",
      "  InsecureRequestWarning)\n"
     ]
    }
   ],
   "source": [
    "response = requests.get(req_url+\"&token=\"+token+\"&datainputs=name=tux\", verify=False)"
   ]
  },
  {
   "cell_type": "code",
   "execution_count": 26,
   "metadata": {},
   "outputs": [
    {
     "name": "stdout",
     "output_type": "stream",
     "text": [
      "<!-- PyWPS 4.0.0 -->\n",
      "<wps:ExecuteResponse xmlns:gml=\"http://www.opengis.net/gml\" xmlns:ows=\"http://www.opengis.net/ows/1.1\" xmlns:wps=\"http://www.opengis.net/wps/1.0.0\" xmlns:xlink=\"http://www.w3.org/1999/xlink\" xmlns:xsi=\"http://www.w3.org/2001/XMLSchema-instance\" xsi:schemaLocation=\"http://www.opengis.net/wps/1.0.0 http://schemas.opengis.net/wps/1.0.0/wpsExecute_response.xsd\" service=\"WPS\" version=\"1.0.0\" xml:lang=\"en-US\" serviceInstance=\"https://localhost:5000/ows/wps?service=WPS&amp;request=GetCapabilities\" statusLocation=\"file:///tmp/2a6bf1ee-d81e-11e6-ab9a-68f72837e1b4.xml\">\n",
      "  <wps:Process wps:processVersion=\"1.4\">\n",
      "    <ows:Identifier>hello</ows:Identifier>\n",
      "    <ows:Title>Say Hello</ows:Title>\n",
      "  </wps:Process>\n",
      "  <wps:Status creationTime=\"2017-01-11T17:51:15Z\">\n",
      "    <wps:ProcessSucceeded>PyWPS Process Say Hello finished</wps:ProcessSucceeded>\n",
      "  </wps:Status>\n",
      "  <wps:ProcessOutputs>\n",
      "    <wps:Output>\n",
      "      <ows:Identifier>output</ows:Identifier>\n",
      "      <ows:Title>Output response</ows:Title>\n",
      "      <wps:Data>\n",
      "        <wps:LiteralData dataType=\"urn:ogc:def:dataType:OGC:1.1:string\">Hello tux</wps:LiteralData>\n",
      "      </wps:Data>\n",
      "    </wps:Output>\n",
      "  </wps:ProcessOutputs>\n",
      "</wps:ExecuteResponse>\n",
      "\n"
     ]
    }
   ],
   "source": [
    "print response.text"
   ]
  },
  {
   "cell_type": "code",
   "execution_count": 28,
   "metadata": {},
   "outputs": [
    {
     "name": "stderr",
     "output_type": "stream",
     "text": [
      "/home/pingu/.conda/envs/twitcher/lib/python2.7/site-packages/requests/packages/urllib3/connectionpool.py:843: InsecureRequestWarning: Unverified HTTPS request is being made. Adding certificate verification is strongly advised. See: https://urllib3.readthedocs.io/en/latest/advanced-usage.html#ssl-warnings\n",
      "  InsecureRequestWarning)\n"
     ]
    }
   ],
   "source": [
    "ext_req_url = \"https://localhost:5000/ows/proxy/hummingbird?version=1.0.0&service=wps&request=execute&identifier=ncdump\"\n",
    "response = requests.get(ext_req_url+\"&token=\"+token+\"&datainputs=dataset_opendap=\"+opendap_url, verify=False)"
   ]
  },
  {
   "cell_type": "code",
   "execution_count": 29,
   "metadata": {},
   "outputs": [
    {
     "name": "stdout",
     "output_type": "stream",
     "text": [
      "<!-- PyWPS 4.0.0 -->\n",
      "<wps:ExecuteResponse xmlns:gml=\"http://www.opengis.net/gml\" xmlns:ows=\"http://www.opengis.net/ows/1.1\" xmlns:wps=\"http://www.opengis.net/wps/1.0.0\" xmlns:xlink=\"http://www.w3.org/1999/xlink\" xmlns:xsi=\"http://www.w3.org/2001/XMLSchema-instance\" xsi:schemaLocation=\"http://www.opengis.net/wps/1.0.0 http://schemas.opengis.net/wps/1.0.0/wpsExecute_response.xsd\" service=\"WPS\" version=\"1.0.0\" xml:lang=\"en-US\" serviceInstance=\"https://localhost:5000/ows/proxy/hummingbird?service=WPS&amp;request=GetCapabilities\" statusLocation=\"http://localhost:8090/wpsoutputs/hummingbird/40ab0d28-d81e-11e6-b5b4-68f72837e1b4.xml\">\n",
      "  <wps:Process wps:processVersion=\"4.4.1\">\n",
      "    <ows:Identifier>ncdump</ows:Identifier>\n",
      "    <ows:Title>NCDump</ows:Title>\n",
      "    <ows:Abstract>Run ncdump to retrieve netcdf header metadata.</ows:Abstract>\n",
      "  </wps:Process>\n",
      "  <wps:Status creationTime=\"2017-01-11T17:51:53Z\">\n",
      "    <wps:ProcessSucceeded>PyWPS Process NCDump finished</wps:ProcessSucceeded>\n",
      "  </wps:Status>\n",
      "  <wps:ProcessOutputs>\n",
      "    <wps:Output>\n",
      "      <ows:Identifier>output</ows:Identifier>\n",
      "      <ows:Title>NetCDF Metadata</ows:Title>\n",
      "      <ows:Abstract>NetCDF Metadata</ows:Abstract>\n",
      "      <wps:Reference xlink:href=\"http://localhost:8090/wpsoutputs/hummingbird/nc_dump3vTQkM.txt\" mimeType=\"text/plain\"/>\n",
      "    </wps:Output>\n",
      "  </wps:ProcessOutputs>\n",
      "</wps:ExecuteResponse>\n",
      "\n"
     ]
    }
   ],
   "source": [
    "print response.text"
   ]
  },
  {
   "cell_type": "code",
   "execution_count": null,
   "metadata": {
    "collapsed": true
   },
   "outputs": [],
   "source": []
  }
 ],
 "metadata": {
  "kernelspec": {
   "display_name": "Python 3 (ipykernel)",
   "language": "python",
   "name": "python3"
  },
  "language_info": {
   "codemirror_mode": {
    "name": "ipython",
    "version": 3
   },
   "file_extension": ".py",
   "mimetype": "text/x-python",
   "name": "python",
   "nbconvert_exporter": "python",
   "pygments_lexer": "ipython3",
   "version": "3.8.10"
  }
 },
 "nbformat": 4,
 "nbformat_minor": 2
}
