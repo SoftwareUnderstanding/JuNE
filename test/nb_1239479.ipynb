{
 "cells": [
  {
   "cell_type": "markdown",
   "metadata": {
    "collapsed": true
   },
   "source": [
    "## FBA simulation toy_atp\n",
    "Simulating the FBA part."
   ]
  },
  {
   "cell_type": "code",
   "execution_count": 1,
   "metadata": {},
   "outputs": [],
   "source": [
    "from __future__ import print_function, absolute_import\n",
    "\n",
    "import pandas as pd\n",
    "import cobra\n",
    "from matplotlib import pyplot as plt\n",
    "\n",
    "from sbmlutils import fbc\n",
    "from sbmlutils.dfba.analysis import set_matplotlib_parameters\n",
    "from sbmlutils.dfba.toy_atp import model_factory\n",
    "\n",
    "set_matplotlib_parameters()"
   ]
  },
  {
   "cell_type": "code",
   "execution_count": 2,
   "metadata": {},
   "outputs": [
    {
     "name": "stdout",
     "output_type": "stream",
     "text": [
      "./results/v2/toy_atp_fba.xml\n"
     ]
    },
    {
     "data": {
      "text/plain": [
       "(<Model toy_atp_fba at 0x7f13ea2d79e8>,\n",
       " {'SBML errors': [], 'other': [], 'validator': [], 'warnings': []})"
      ]
     },
     "execution_count": 2,
     "metadata": {},
     "output_type": "execute_result"
    }
   ],
   "source": [
    "# load model\n",
    "sbml_path = './results/v{}/toy_atp_fba.xml'.format(model_factory.version)\n",
    "print(sbml_path)\n",
    "model = cobra.io.read_sbml_model(sbml_path)\n",
    "cobra.io.sbml3.validate_sbml_model(sbml_path)"
   ]
  },
  {
   "cell_type": "code",
   "execution_count": 3,
   "metadata": {},
   "outputs": [
    {
     "name": "stdout",
     "output_type": "stream",
     "text": [
      "          lb     ub reversibility boundary objective_coefficient  \\\n",
      "R1         0   1000         False    False                     0   \n",
      "R2         0   1000         False    False                     0   \n",
      "R3         0  0.001         False    False                     1   \n",
      "EX_atp -1000   1000          True     True                     0   \n",
      "EX_adp -1000   1000          True     True                     0   \n",
      "EX_glc -1000   1000          True     True                     0   \n",
      "EX_pyr -1000   1000          True     True                     0   \n",
      "\n",
      "             forward_variable                     reverse_variable  \n",
      "R1        0.0 <= R1 <= 1000.0           0 <= R1_reverse_cda52 <= 0  \n",
      "R2        0.0 <= R2 <= 1000.0           0 <= R2_reverse_8c6d2 <= 0  \n",
      "R3         0.0 <= R3 <= 0.001           0 <= R3_reverse_5c108 <= 0  \n",
      "EX_atp  0 <= EX_atp <= 1000.0  0 <= EX_atp_reverse_dfd97 <= 1000.0  \n",
      "EX_adp  0 <= EX_adp <= 1000.0  0 <= EX_adp_reverse_76b83 <= 1000.0  \n",
      "EX_glc  0 <= EX_glc <= 1000.0  0 <= EX_glc_reverse_8e37d <= 1000.0  \n",
      "EX_pyr  0 <= EX_pyr <= 1000.0  0 <= EX_pyr_reverse_03be5 <= 1000.0  \n",
      "reactions: 7\n",
      "metabolites: 6\n",
      "genes: 0\n"
     ]
    }
   ],
   "source": [
    "# objective function & boundaries\n",
    "# pprint(mfba.objective)\n",
    "df = fbc.cobra_reaction_info(model)\n",
    "print(df)\n",
    "print(\"reactions:\", len(model.reactions))\n",
    "print(\"metabolites:\", len(model.metabolites))\n",
    "print(\"genes:\", len(model.genes))"
   ]
  },
  {
   "cell_type": "code",
   "execution_count": 4,
   "metadata": {},
   "outputs": [
    {
     "data": {
      "text/html": [
       "<div>\n",
       "<style>\n",
       "    .dataframe thead tr:only-child th {\n",
       "        text-align: right;\n",
       "    }\n",
       "\n",
       "    .dataframe thead th {\n",
       "        text-align: left;\n",
       "    }\n",
       "\n",
       "    .dataframe tbody tr th {\n",
       "        vertical-align: top;\n",
       "    }\n",
       "</style>\n",
       "<table border=\"1\" class=\"dataframe\">\n",
       "  <thead>\n",
       "    <tr style=\"text-align: right;\">\n",
       "      <th></th>\n",
       "      <th>lb</th>\n",
       "      <th>ub</th>\n",
       "      <th>reversibility</th>\n",
       "      <th>boundary</th>\n",
       "      <th>objective_coefficient</th>\n",
       "      <th>forward_variable</th>\n",
       "      <th>reverse_variable</th>\n",
       "    </tr>\n",
       "  </thead>\n",
       "  <tbody>\n",
       "    <tr>\n",
       "      <th>EX_atp</th>\n",
       "      <td>-1000</td>\n",
       "      <td>1000</td>\n",
       "      <td>True</td>\n",
       "      <td>True</td>\n",
       "      <td>0</td>\n",
       "      <td>0 &lt;= EX_atp &lt;= 1000.0</td>\n",
       "      <td>0 &lt;= EX_atp_reverse_dfd97 &lt;= 1000.0</td>\n",
       "    </tr>\n",
       "    <tr>\n",
       "      <th>EX_adp</th>\n",
       "      <td>-1000</td>\n",
       "      <td>1000</td>\n",
       "      <td>True</td>\n",
       "      <td>True</td>\n",
       "      <td>0</td>\n",
       "      <td>0 &lt;= EX_adp &lt;= 1000.0</td>\n",
       "      <td>0 &lt;= EX_adp_reverse_76b83 &lt;= 1000.0</td>\n",
       "    </tr>\n",
       "    <tr>\n",
       "      <th>EX_glc</th>\n",
       "      <td>-1000</td>\n",
       "      <td>1000</td>\n",
       "      <td>True</td>\n",
       "      <td>True</td>\n",
       "      <td>0</td>\n",
       "      <td>0 &lt;= EX_glc &lt;= 1000.0</td>\n",
       "      <td>0 &lt;= EX_glc_reverse_8e37d &lt;= 1000.0</td>\n",
       "    </tr>\n",
       "    <tr>\n",
       "      <th>EX_pyr</th>\n",
       "      <td>-1000</td>\n",
       "      <td>1000</td>\n",
       "      <td>True</td>\n",
       "      <td>True</td>\n",
       "      <td>0</td>\n",
       "      <td>0 &lt;= EX_pyr &lt;= 1000.0</td>\n",
       "      <td>0 &lt;= EX_pyr_reverse_03be5 &lt;= 1000.0</td>\n",
       "    </tr>\n",
       "  </tbody>\n",
       "</table>\n",
       "</div>"
      ],
      "text/plain": [
       "          lb    ub reversibility boundary objective_coefficient  \\\n",
       "EX_atp -1000  1000          True     True                     0   \n",
       "EX_adp -1000  1000          True     True                     0   \n",
       "EX_glc -1000  1000          True     True                     0   \n",
       "EX_pyr -1000  1000          True     True                     0   \n",
       "\n",
       "             forward_variable                     reverse_variable  \n",
       "EX_atp  0 <= EX_atp <= 1000.0  0 <= EX_atp_reverse_dfd97 <= 1000.0  \n",
       "EX_adp  0 <= EX_adp <= 1000.0  0 <= EX_adp_reverse_76b83 <= 1000.0  \n",
       "EX_glc  0 <= EX_glc <= 1000.0  0 <= EX_glc_reverse_8e37d <= 1000.0  \n",
       "EX_pyr  0 <= EX_pyr <= 1000.0  0 <= EX_pyr_reverse_03be5 <= 1000.0  "
      ]
     },
     "execution_count": 4,
     "metadata": {},
     "output_type": "execute_result"
    }
   ],
   "source": [
    "# Exchange reactions\n",
    "ex_idx = df.index.str.contains('^EX_')\n",
    "df[ex_idx]"
   ]
  },
  {
   "cell_type": "code",
   "execution_count": 5,
   "metadata": {},
   "outputs": [
    {
     "name": "stdout",
     "output_type": "stream",
     "text": [
      "IN FLUXES                       OUT FLUXES                    OBJECTIVES\n",
      "------------------------------  ----------------------------  ------------\n",
      "id      Flux  Range             id      Flux  Range           R3  0.001\n",
      "----  ------  ----------------  ----  ------  --------------\n",
      "glc   0.0005  [0.0005, 0.0005]  pyr    0.001  [0.001, 0.001]\n"
     ]
    }
   ],
   "source": [
    "# optimize\n",
    "s = model.optimize(objective_sense=\"maximize\")\n",
    "model.summary(fva=True)"
   ]
  },
  {
   "cell_type": "code",
   "execution_count": 6,
   "metadata": {},
   "outputs": [
    {
     "name": "stdout",
     "output_type": "stream",
     "text": [
      "IN FLUXES                       OUT FLUXES                    OBJECTIVES\n",
      "------------------------------  ----------------------------  ------------\n",
      "id      Flux  Range             id      Flux  Range           R3  0.001\n",
      "----  ------  ----------------  ----  ------  --------------\n",
      "glc   0.0005  [0.0005, 0.0005]  pyr    0.001  [0.001, 0.001]\n"
     ]
    }
   ],
   "source": [
    "# pfba (minimal flux)\n",
    "# no difference, the flux variability analysis \n",
    "# already showed us that the model has unique solution under given bounds \n",
    "s = model.optimize(objective_sense=\"maximize\")\n",
    "cobra.flux_analysis.pfba(model)\n",
    "model.summary(fva=True)"
   ]
  },
  {
   "cell_type": "code",
   "execution_count": 9,
   "metadata": {},
   "outputs": [
    {
     "data": {
      "text/plain": [
       "R1        0.0005\n",
       "R2        0.0005\n",
       "R3        0.0010\n",
       "EX_atp    0.0000\n",
       "EX_adp    0.0000\n",
       "EX_glc   -0.0005\n",
       "EX_pyr    0.0010\n",
       "Name: fluxes, dtype: float64"
      ]
     },
     "execution_count": 9,
     "metadata": {},
     "output_type": "execute_result"
    }
   ],
   "source": [
    "s.fluxes"
   ]
  },
  {
   "cell_type": "code",
   "execution_count": null,
   "metadata": {
    "collapsed": true
   },
   "outputs": [],
   "source": []
  }
 ],
 "metadata": {
  "kernelspec": {
   "display_name": "dfba",
   "language": "python",
   "name": "dfba"
  },
  "language_info": {
   "codemirror_mode": {
    "name": "ipython",
    "version": 3
   },
   "file_extension": ".py",
   "mimetype": "text/x-python",
   "name": "python",
   "nbconvert_exporter": "python",
   "pygments_lexer": "ipython3",
   "version": "3.5.2"
  }
 },
 "nbformat": 4,
 "nbformat_minor": 1
}
