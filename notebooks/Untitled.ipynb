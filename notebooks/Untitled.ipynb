{
 "cells": [
  {
   "cell_type": "code",
   "execution_count": null,
   "id": "65605576",
   "metadata": {},
   "outputs": [],
   "source": [
    "# http://docs.scipy.org/doc/scipy/reference/generated/scipy.stats.ttest_ind.html#scipy.stats.ttest_ind\n",
    "# http://blog.minitab.com/blog/statistics-and-quality-data-analysis/what-are-t-values-and-p-values-in-statistics\n",
    "# http://blog.minitab.com/blog/statistics-and-quality-data-analysis/what-is-a-t-test-and-why-is-it-like-telling-a-kid-to-clean-up-that-mess-in-the-kitchen\n",
    "\n",
    "# stats.ttest_ind(P1,P2, equal_var=False) performs this: https://en.wikipedia.org/wiki/Welch%27s_t_test\n",
    "print \"Is the noise making any difference\", \"(Sets A and B)?\"\n",
    "noiselevel=0\n",
    "decimationlevel=0\n",
    "P1,P2 = METRIC_ALL[0,:,noiselevel,decimationlevel,:].flatten(),METRIC_ALL[1,:,noiselevel,decimationlevel,:].flatten()        \n",
    "res = stats.ttest_ind(P1,P2, equal_var=False)\n",
    "print \"Welch’s t-test - \", res\n",
    "\n",
    "print \"Is the noise making any difference\", \"(Sets C and D)?\"\n",
    "noiselevel=0\n",
    "decimationlevel=0\n",
    "P1,P2 = METRIC_ALL[2,:,noiselevel,decimationlevel,:].flatten(),METRIC_ALL[3,:,noiselevel,decimationlevel,:].flatten()        \n",
    "res = stats.ttest_ind(P1,P2, equal_var=False)\n",
    "print \"Welch’s t-test - \", res"
   ]
  },
  {
   "cell_type": "code",
   "execution_count": null,
   "id": "75a08b40",
   "metadata": {},
   "outputs": [],
   "source": []
  }
 ],
 "metadata": {
  "kernelspec": {
   "display_name": "Python 3 (ipykernel)",
   "language": "python",
   "name": "python3"
  },
  "language_info": {
   "codemirror_mode": {
    "name": "ipython",
    "version": 3
   },
   "file_extension": ".py",
   "mimetype": "text/x-python",
   "name": "python",
   "nbconvert_exporter": "python",
   "pygments_lexer": "ipython3",
   "version": "3.8.10"
  }
 },
 "nbformat": 4,
 "nbformat_minor": 5
}
