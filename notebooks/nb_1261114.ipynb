{
 "cells": [
  {
   "cell_type": "code",
   "execution_count": 9,
   "metadata": {
    "collapsed": false
   },
   "outputs": [
    {
     "name": "stdout",
     "output_type": "stream",
     "text": [
      "(910, 7)\n",
      "910\n",
      "6\n",
      "Number of training examples: 910\n",
      "Number of features: 6\n",
      "(910, 6)\n"
     ]
    }
   ],
   "source": [
    "import numpy as np\n",
    "from numpy import loadtxt\n",
    "\n",
    "\n",
    "def load_data(input_file, delim=\",\"):\n",
    "    data = np.loadtxt(input_file, delimiter=delim)\n",
    "    print data.shape\n",
    "    print data.shape[0]\n",
    "    n_features = data.shape[1]-1\n",
    "    print n_features\n",
    "    if n_features == 1:\n",
    "        X = data[:,0]\n",
    "    else:\n",
    "        X = data[:,np.arange(n_features)]\n",
    "    y = data[:,n_features]\n",
    "    assert len(X) == len(y)\n",
    "    print(\"Number of training examples: %i\" % X.shape[0])\n",
    "    print(\"Number of features: %s\" % X.shape[1])\n",
    "\n",
    "    return X, y\n",
    "X,y = load_data(\"Z_no-file.txt\");\n",
    "print(X.shape)"
   ]
  },
  {
   "cell_type": "code",
   "execution_count": 10,
   "metadata": {
    "collapsed": false
   },
   "outputs": [
    {
     "data": {
      "image/png": "[encoded data removed]",
      "text/plain": [
       "<matplotlib.figure.Figure at 0x7f10ed0a2710>"
      ]
     },
     "metadata": {},
     "output_type": "display_data"
    }
   ],
   "source": [
    "import matplotlib.pyplot as plt\n",
    "plt.title('Scatter plot of training data')\n",
    "plt.xlabel('Exam 1 Score')\n",
    "plt.ylabel('Exam 2 score')\n",
    "\n",
    "x_pos = np.where(y == 1)\n",
    "x_neg = np.where(y == 0)\n",
    "\n",
    "adm = plt.scatter(X[x_pos][:,0], X[x_pos][:,1], marker='+', color='k')\n",
    "not_adm = plt.scatter(X[x_neg][:,0], X[x_neg][:,1], marker='o', color='y')\n",
    "plt.legend((adm, not_adm), ('Admitted', 'Not Admitted'), scatterpoints=1, loc=\"upper right\")\n",
    "plt.xlim(30, 100)\n",
    "plt.ylim(30, 100)\n",
    "plt.show()"
   ]
  },
  {
   "cell_type": "code",
   "execution_count": 10,
   "metadata": {
    "collapsed": false
   },
   "outputs": [
    {
     "name": "stdout",
     "output_type": "stream",
     "text": [
      "Populating the interactive namespace from numpy and matplotlib\n"
     ]
    }
   ],
   "source": [
    "%pylab inline"
   ]
  },
  {
   "cell_type": "code",
   "execution_count": 8,
   "metadata": {
    "collapsed": false
   },
   "outputs": [
    {
     "name": "stdout",
     "output_type": "stream",
     "text": [
      "Number of training examples: 910\n",
      "Number of features: 2\n",
      "(910, 2)\n"
     ]
    }
   ],
   "source": [
    "def load_data(input_file, delim=\",\"):\n",
    "    data = np.loadtxt(input_file, delimiter=delim)\n",
    "    \n",
    "    n_features = data.shape[1]-1\n",
    "    # print data[:,2]\n",
    "    if n_features == 1:\n",
    "        X = data[:,0]\n",
    "    else:\n",
    "        X = data[:,[1,5]]\n",
    "    y = data[:,n_features]\n",
    "    assert len(X) == len(y)\n",
    "    print(\"Number of training examples: %i\" % X.shape[0])\n",
    "    print(\"Number of features: %s\" % X.shape[1])\n",
    "\n",
    "    return X, y\n",
    "# X,y = load_data(\"test1.txt\");\n",
    "# print(X.shape)\n",
    "\n",
    "\n",
    "X,y = load_data(\"Z_no-file.txt\");\n",
    "print(X.shape)"
   ]
  },
  {
   "cell_type": "code",
   "execution_count": 14,
   "metadata": {
    "collapsed": false
   },
   "outputs": [
    {
     "name": "stdout",
     "output_type": "stream",
     "text": [
      "[]\n",
      "[]\n"
     ]
    },
    {
     "data": {
      "image/png": "[encoded data removed]",
      "text/plain": [
       "<matplotlib.figure.Figure at 0x7ff74f5268d0>"
      ]
     },
     "metadata": {},
     "output_type": "display_data"
    }
   ],
   "source": [
    "plt.title('Scatter plot of training data')\n",
    "plt.xlabel('Exam 1 Score')\n",
    "plt.ylabel('Exam 2 score')\n",
    "\n",
    "x_pos = np.where(y == 1)\n",
    "x_neg = np.where(y == 0)\n",
    "\n",
    "print X[x_pos][:,0]\n",
    "print X[x_pos][:,1]\n",
    "adm = plt.scatter(X[x_pos][:,0], X[x_pos][:,1], marker='+', color='k')\n",
    "not_adm = plt.scatter(X[x_neg][:,0], X[x_neg][:,1], marker='o', color='y')\n",
    "plt.legend((adm, not_adm), ('Admitted', 'Not Admitted'), scatterpoints=1, loc=\"upper right\")\n",
    "plt.xlim(30, 100)\n",
    "plt.ylim(30, 100)\n",
    "plt.show()"
   ]
  },
  {
   "cell_type": "code",
   "execution_count": 11,
   "metadata": {
    "collapsed": true
   },
   "outputs": [],
   "source": [
    "def load_data(input_file, delim=\",\"):\n",
    "    data = np.loadtxt(input_file, delimiter=delim)\n",
    "    n_features = data.shape[1]-1\n",
    "    # print data[:,2]\n",
    "    if n_features == 1:\n",
    "        X = data[:,0]\n",
    "    else:\n",
    "        X = data[:,np.arange(n_features)]\n",
    "    y = data[:,n_features]\n",
    "    print(\"Number of training examples: %i\" % X.shape[0])\n",
    "    print(\"Number of features: %s\" % X.shape[1])\n",
    "\n",
    "    return X, y\n"
   ]
  },
  {
   "cell_type": "code",
   "execution_count": 12,
   "metadata": {
    "collapsed": false
   },
   "outputs": [
    {
     "name": "stdout",
     "output_type": "stream",
     "text": [
      "Number of training examples: 910\n",
      "Number of features: 6\n",
      "(910, 6)\n"
     ]
    }
   ],
   "source": [
    "X,y = load_data(\"output.csv\");\n",
    "print(X.shape)"
   ]
  },
  {
   "cell_type": "code",
   "execution_count": 36,
   "metadata": {
    "collapsed": false
   },
   "outputs": [
    {
     "data": {
      "image/png": "[encoded data removed]",
      "text/plain": [
       "<matplotlib.figure.Figure at 0x7ff74f333810>"
      ]
     },
     "metadata": {},
     "output_type": "display_data"
    }
   ],
   "source": [
    "plt.title('Scatter plot of training data')\n",
    "plt.xlabel('Exam 1 Score')\n",
    "plt.ylabel('Exam 2 score')\n",
    "\n",
    "x_pos = np.where(y == 1.0)\n",
    "x_neg = np.where(y == 0.0)\n",
    "\n",
    "adm = plt.scatter(X[x_pos][:,0], X[x_pos][:,1], marker='+', color='k')\n",
    "not_adm = plt.scatter(X[x_neg][:,0], X[x_neg][:,1], marker='o', color='y')\n",
    "plt.legend((adm, not_adm), ('Admitted', 'Not Admitted'), scatterpoints=1, loc=\"upper right\")\n",
    "# plt.xlim(0.00, 0.39506835)\n",
    "#plt.ylim(0.00, 0.39506835)\n",
    "plt.show()"
   ]
  },
  {
   "cell_type": "code",
   "execution_count": 19,
   "metadata": {
    "collapsed": false
   },
   "outputs": [
    {
     "name": "stdout",
     "output_type": "stream",
     "text": [
      "Populating the interactive namespace from numpy and matplotlib\n"
     ]
    }
   ],
   "source": [
    "%pylab inline"
   ]
  },
  {
   "cell_type": "code",
   "execution_count": 37,
   "metadata": {
    "collapsed": false
   },
   "outputs": [
    {
     "data": {
      "image/png": "[encoded data removed]",
      "text/plain": [
       "<matplotlib.figure.Figure at 0x7ff74f6d3090>"
      ]
     },
     "metadata": {},
     "output_type": "display_data"
    }
   ],
   "source": [
    "\n",
    "z = np.arange(-7, 8, 1)\n",
    "sigFunc = np.true_divide(1, (1 + np.exp(-1 * z)))\n",
    "intercept = np.zeros(len(z))\n",
    "intercept.fill(0.5)\n",
    "\n",
    "plt.xlabel('z')\n",
    "plt.ylabel('g(z)')\n",
    "plt.plot(z, sigFunc, '--g')\n",
    "plt.plot(z, intercept, '--b')\n",
    "plt.plot(np.zeros(z.shape[0]), sigFunc, 'k')\n",
    "plt.xlim([-7,7])\n",
    "plt.show()"
   ]
  },
  {
   "cell_type": "code",
   "execution_count": 14,
   "metadata": {
    "collapsed": false
   },
   "outputs": [
    {
     "name": "stdout",
     "output_type": "stream",
     "text": [
      "[[ 0.5  0.5  0.5]]\n"
     ]
    }
   ],
   "source": [
    "\n",
    "def sigmoid_hypothesis(z):\n",
    "    return 1/(1 + np.exp(-z))\n",
    "    \n",
    "X = np.array([[0.3, 2.1, 1.1], [4, 5, 2], [6, 1, 9]])\n",
    "theta = np.zeros(X.shape[1]).reshape(X.shape[1],1)\n",
    "z = X.dot(theta)\n",
    "g = sigmoid_hypothesis(z)\n",
    "print(g.T)"
   ]
  },
  {
   "cell_type": "code",
   "execution_count": 15,
   "metadata": {
    "collapsed": false
   },
   "outputs": [
    {
     "name": "stdout",
     "output_type": "stream",
     "text": [
      "Number of training examples: 910\n",
      "Number of features: 6\n",
      "Initial Cost: 0.693\n"
     ]
    }
   ],
   "source": [
    "def compute_cost(theta, X, y):\n",
    "    m = X.shape[0]\n",
    "    z = X.dot(theta)\n",
    "    g = sigmoid_hypothesis(z)\n",
    "    return (-y.T.dot(np.log(g)) -\n",
    "            (1 - y).T.dot(np.log(1 - g))) / float(m)\n",
    "    \n",
    "X, y = load_data(\"output.csv\")\n",
    "x_zero = np.ones(len(X))\n",
    "X = np.column_stack([x_zero, X])\n",
    "theta = np.zeros(X.shape[1]).reshape(X.shape[1],1)\n",
    "\n",
    "J = compute_cost(theta, X, y)\n",
    "print(\"Initial Cost: %.3f\" % J)"
   ]
  },
  {
   "cell_type": "code",
   "execution_count": 16,
   "metadata": {
    "collapsed": false
   },
   "outputs": [
    {
     "name": "stdout",
     "output_type": "stream",
     "text": [
      "Number of training examples: 910\n",
      "Number of features: 6\n",
      "Initial Gradient: [[ 0.         -0.00307071  0.00193463  0.00090594 -0.00333788  0.00251744\n",
      "   0.00201296]]\n"
     ]
    }
   ],
   "source": [
    "\n",
    "def compute_gradient(theta, X, y):\n",
    "    z = X.dot(theta)\n",
    "    g = sigmoid_hypothesis(z)\n",
    "    loss = np.subtract(g, y)\n",
    "    return X.T.dot(loss)/float(X.shape[0])\n",
    "\n",
    "X, y = load_data(\"output.csv\")\n",
    "X = np.column_stack([np.ones(len(X)), X])\n",
    "y = y.reshape(X.shape[0], 1)\n",
    "\n",
    "print(\"Initial Gradient: %s\" % compute_gradient(theta, X, y).T)"
   ]
  },
  {
   "cell_type": "code",
   "execution_count": 17,
   "metadata": {
    "collapsed": false
   },
   "outputs": [
    {
     "name": "stdout",
     "output_type": "stream",
     "text": [
      "Number of training examples: 910\n",
      "Number of features: 6\n",
      "Before Normalization [ 0.08915534  0.          0.          0.          0.          0.        ]\n",
      "After Normalization [ 1.70070632 -0.4673457  -0.50379927 -0.192764   -0.59422427 -0.54951348]\n"
     ]
    }
   ],
   "source": [
    "def normalize_features(X):\n",
    "    mu = np.mean(X, axis=0)\n",
    "    std = np.std(X, axis=0)\n",
    "    X = (X - mu)/std\n",
    "    return X, mu, std\n",
    "\n",
    "X, y = load_data(\"output.csv\");\n",
    "y = y.reshape(X.shape[0], 1)\n",
    "\n",
    "X0_before = X[0]\n",
    "X, _, _ = normalize_features(X)\n",
    "X0_after = X[0]\n",
    "\n",
    "print(\"Before Normalization %s\" % X0_before)\n",
    "print(\"After Normalization %s\" % X0_after)"
   ]
  },
  {
   "cell_type": "code",
   "execution_count": 18,
   "metadata": {
    "collapsed": false
   },
   "outputs": [
    {
     "name": "stdout",
     "output_type": "stream",
     "text": [
      "Number of training examples: 910\n",
      "Number of features: 6\n",
      "[  1.00000000e+00   9.93563286e+02   2.00087646e+03]\n",
      "Minimum gradient [[ 0.02735205  0.19498634 -0.33935618 -0.12648926  0.49676007 -0.35231203\n",
      "  -0.36522198]]\n",
      "Minimum cost [[ 0.64784445]]\n",
      "(3,)\n"
     ]
    }
   ],
   "source": [
    "\n",
    "import sys\n",
    "\n",
    "\n",
    "def gradient_descent(theta, X, y, alpha=4.8, max_iter=400):\n",
    "    best_theta = theta\n",
    "    min_cost = sys.maxint\n",
    "    J_hist = np.zeros(max_iter)\n",
    "    grad_hist = list()\n",
    "    \n",
    "    for i in np.arange(max_iter):\n",
    "        grad = compute_gradient(theta, X, y)\n",
    "        grad_hist.append(grad)\n",
    "        theta = theta - (alpha * grad)\n",
    "        \n",
    "        J = compute_cost(theta, X, y)\n",
    "        J_hist[i] = J\n",
    "        if J < min_cost:\n",
    "            min_cost = J\n",
    "            best_theta = theta\n",
    "    return best_theta, min_cost, J_hist, grad_hist\n",
    "\n",
    "X, y = load_data(\"output.csv\");\n",
    "y = y.reshape(X.shape[0], 1)\n",
    "\n",
    "X_test = np.array([1, \n",
    "            np.true_divide(np.subtract(45, np.mean(X[:,0])), np.std(X[:,0])),\n",
    "            np.true_divide(np.subtract(85,np.mean(X[:,1])), np.std(X[:,1]))])\n",
    "\n",
    "print X_test\n",
    "\n",
    "X, _, _ = normalize_features(X)\n",
    "X = np.column_stack([np.ones(len(X)), X])\n",
    "theta = np.zeros((X.shape[1], 1))\n",
    "\n",
    "theta, min_cost, J_hist, grad_hist = gradient_descent(theta, X, y)\n",
    "print(\"Minimum gradient %s\" % theta.T)\n",
    "print(\"Minimum cost %s\" % min_cost)\n",
    "\n",
    "\n",
    "print X_test.shape\n",
    "X_test = X_test.reshape(3,)\n",
    "# z = X_test.dot(theta)\n",
    "# print(\"Probability of Admittance %s\" % sigmoid_hypothesis(z))"
   ]
  },
  {
   "cell_type": "code",
   "execution_count": 69,
   "metadata": {
    "collapsed": false
   },
   "outputs": [
    {
     "name": "stdout",
     "output_type": "stream",
     "text": [
      "Optimal Learning Rate: 0.4\n",
      "Minimum cost [[ 0.64784445]]\n"
     ]
    },
    {
     "data": {
      "image/png": "[encoded data removed]",
      "text/plain": [
       "<matplotlib.figure.Figure at 0x7ff74f160e10>"
      ]
     },
     "metadata": {},
     "output_type": "display_data"
    }
   ],
   "source": [
    "alphas = np.arange(0, 10, 0.1)\n",
    "alphas_hist = np.zeros((alphas.shape[0], 1))\n",
    "\n",
    "tol = 1e-12\n",
    "learning_rate = sys.maxint\n",
    "found = False\n",
    "least_cost = sys.maxint\n",
    "theta = np.zeros((X.shape[1], 1))\n",
    "for i, alpha_i in enumerate(alphas):\n",
    "    theta, cost, _, _ = gradient_descent(theta, X, y, alpha_i)\n",
    "    if i==0:\n",
    "        t = cost    \n",
    "    if i > 0 and t - cost < tol and not found:\n",
    "        learning_rate = alpha_i\n",
    "        found = True\n",
    "        least_cost = cost\n",
    "    alphas_hist[i] = cost\n",
    "    t = cost\n",
    "\n",
    "print(\"Optimal Learning Rate: %s\" % learning_rate)\n",
    "print(\"Minimum cost %s\" % least_cost)\n",
    "\n",
    "plt.xlabel('Learning Rate')\n",
    "plt.ylabel('Cost J')\n",
    "plt.plot(alphas, alphas_hist, '-b')  \n",
    "plt.show()"
   ]
  },
  {
   "cell_type": "code",
   "execution_count": 70,
   "metadata": {
    "collapsed": false
   },
   "outputs": [
    {
     "name": "stdout",
     "output_type": "stream",
     "text": [
      "Populating the interactive namespace from numpy and matplotlib\n"
     ]
    }
   ],
   "source": [
    "%pylab inline"
   ]
  },
  {
   "cell_type": "code",
   "execution_count": 21,
   "metadata": {
    "collapsed": false
   },
   "outputs": [
    {
     "name": "stdout",
     "output_type": "stream",
     "text": [
      "Number of training examples: 910\n",
      "Number of features: 6\n",
      "[ 0.  0.  0.  0.  0.  0.  0.]\n",
      "Warning: Maximum number of iterations has been exceeded.\n"
     ]
    }
   ],
   "source": [
    "import scipy.optimize as op\n",
    "\n",
    "X, y = load_data(\"output.csv\");\n",
    "\n",
    "X_test = np.array([1, \n",
    "            np.true_divide(np.subtract(45, np.mean(X[:,0])), np.std(X[:,0])),\n",
    "            np.true_divide(np.subtract(85,np.mean(X[:,1])), np.std(X[:,1]))])\n",
    "\n",
    "X, _, _ = normalize_features(X)\n",
    "X = np.column_stack([np.ones(len(X)), X])\n",
    "\n",
    "\n",
    "options = {'full_output': True, 'maxiter': 400}\n",
    "theta = np.zeros(X.shape[1])\n",
    "print theta\n",
    "\n",
    "theta, cost, _, _, _ = \\\n",
    "        op.fmin(lambda t: compute_cost(t, X, y), theta, **options)\n",
    "\n",
    "# X_test = X_test.reshape(3,)\n",
    "# z = X_test.dot(theta)\n",
    "# print(\"Probability of Admittance %s\" % sigmoid_hypothesis(z))\n",
    "# print(\"Minimum gradient %s\" % theta)"
   ]
  },
  {
   "cell_type": "code",
   "execution_count": 20,
   "metadata": {
    "collapsed": false
   },
   "outputs": [
    {
     "name": "stdout",
     "output_type": "stream",
     "text": [
      "Number of training examples: 910\n",
      "Number of features: 6\n",
      "Precision: 0.59\n"
     ]
    }
   ],
   "source": [
    "from sklearn.metrics import precision_score\n",
    "\n",
    "\n",
    "def predict(theta, X):\n",
    "    y_pred = np.zeros((X.shape[0], 1))\n",
    "    h = X.dot(theta)\n",
    "    g = sigmoid_hypothesis(h)\n",
    "    x_pos = np.where(g >= 0.5)\n",
    "    y_pred[x_pos] = 1\n",
    "    return y_pred\n",
    "\n",
    "X, y = load_data(\"output.csv\")\n",
    "X, _, _ = normalize_features(X)\n",
    "X = np.column_stack([np.ones(len(X)), X])\n",
    "y_pred = predict(theta, X)\n",
    "\n",
    "print(\"Precision: %.2f\" % precision_score(y, y_pred))"
   ]
  },
  {
   "cell_type": "code",
   "execution_count": 7,
   "metadata": {
    "collapsed": false
   },
   "outputs": [
    {
     "name": "stdout",
     "output_type": "stream",
     "text": [
      "[-2.          2.39506835]\n",
      "[-1.06845368  1.45656523]\n"
     ]
    },
    {
     "data": {
      "image/png": "[encoded data removed]",
      "text/plain": [
       "<matplotlib.figure.Figure at 0x7f10ed0a2a90>"
      ]
     },
     "metadata": {},
     "output_type": "display_data"
    }
   ],
   "source": [
    "plt.title('Scatter plot of training data') \n",
    "plt.xlabel('Exam 1 Score')\n",
    "plt.ylabel('Exam 2 score')\n",
    "\n",
    "X, y = load_data(\"output.csv\");\n",
    "# X, mus, stdevs = normalize_features(X)\n",
    "\n",
    "x_pos = np.where(y == 1)\n",
    "x_neg = np.where(y == 0)\n",
    "\n",
    "thetaUn = theta\n",
    "plot_x = np.array([min(X[:,0])-2,  max(X[:,0])+2])\n",
    "plot_y = (-1/theta[2]) * ((theta[1] * plot_x) + theta[0])\n",
    "\n",
    "print(plot_x)\n",
    "print(plot_y)\n",
    "\n",
    "adm = plt.scatter(X[x_pos][:,0], X[x_pos][:,1], marker='+', color='k')\n",
    "not_adm = plt.scatter(X[x_neg][:,0], X[x_neg][:,1], marker='o', color='y')\n",
    "plt.legend((adm, not_adm), ('Admitted', 'Not Admitted'), scatterpoints=1, loc=\"upper right\")\n",
    "plt.plot(plot_x, plot_y, '-b')\n",
    "plt.show()"
   ]
  }
 ],
 "metadata": {
  "kernelspec": {
   "display_name": "Python 2",
   "language": "python",
   "name": "python2"
  },
  "language_info": {
   "codemirror_mode": {
    "name": "ipython",
    "version": 2
   },
   "file_extension": ".py",
   "mimetype": "text/x-python",
   "name": "python",
   "nbconvert_exporter": "python",
   "pygments_lexer": "ipython2",
   "version": "2.7.6"
  }
 },
 "nbformat": 4,
 "nbformat_minor": 0
}
